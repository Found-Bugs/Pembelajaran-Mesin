{
  "nbformat": 4,
  "nbformat_minor": 0,
  "metadata": {
    "colab": {
      "provenance": [],
      "mount_file_id": "1HKUGazZvbOcSY2OP5aCedfoYpH5xwp3K",
      "authorship_tag": "ABX9TyMj86Tuj35f6Mu8oKzjF1Y+",
      "include_colab_link": true
    },
    "kernelspec": {
      "name": "python3",
      "display_name": "Python 3"
    },
    "language_info": {
      "name": "python"
    }
  },
  "cells": [
    {
      "cell_type": "markdown",
      "metadata": {
        "id": "view-in-github",
        "colab_type": "text"
      },
      "source": [
        "<a href=\"https://colab.research.google.com/github/Found-Bugs/Pembelajaran-Mesin/blob/Klasifikasi/Tugas_2.ipynb\" target=\"_parent\"><img src=\"https://colab.research.google.com/assets/colab-badge.svg\" alt=\"Open In Colab\"/></a>"
      ]
    },
    {
      "cell_type": "code",
      "source": [
        "from sklearn.metrics import accuracy_score\n",
        "from sklearn.svm import SVC\n",
        "from sklearn.metrics import classification_report\n",
        "import cv2\n",
        "import os\n",
        "import numpy as np"
      ],
      "metadata": {
        "id": "O_XyRr8E-FPN"
      },
      "execution_count": 27,
      "outputs": []
    },
    {
      "cell_type": "code",
      "source": [
        "# Image directories\n",
        "train_dir = \"/content/drive/MyDrive/ML/Dataset/Klasifikasi/images/training/\"\n",
        "test_dir = \"/content/drive/MyDrive/ML/Dataset/Klasifikasi/images/test/\""
      ],
      "metadata": {
        "id": "PDb-U7r2-F5V"
      },
      "execution_count": 28,
      "outputs": []
    },
    {
      "cell_type": "code",
      "source": [
        "def get_histogram(imgData):\n",
        "\n",
        "    # convert it to HSV\n",
        "    imgData = cv2.cvtColor(imgData, cv2.COLOR_RGB2HSV)\n",
        "\n",
        "    # pull the histogram\n",
        "    histogram = cv2.calcHist([imgData], [0, 1, 2], None, [8, 8, 8], [0, 256, 0, 256, 0, 256])\n",
        "\n",
        "    # normalize and flatten the result\n",
        "    histogram = cv2.normalize(histogram, None).flatten()\n",
        "    return histogram"
      ],
      "metadata": {
        "id": "IdQv9wNK-Hsy"
      },
      "execution_count": 29,
      "outputs": []
    },
    {
      "cell_type": "code",
      "source": [
        "def standarized_input(image):\n",
        "    # resize to w: 1100, h:600\n",
        "    std_img = cv2.resize(image, (1100,600))\n",
        "\n",
        "    return std_img\n",
        "\n",
        "def label_encoder(label):\n",
        "    # Encode the label\n",
        "    # day as 1; night as 0\n",
        "    num_val = 0\n",
        "\n",
        "    if(label == 'day'):\n",
        "        num_val = 1\n",
        "\n",
        "    return num_val"
      ],
      "metadata": {
        "id": "eOv-UEmo-JH8"
      },
      "execution_count": 30,
      "outputs": []
    },
    {
      "cell_type": "code",
      "source": [
        "def preprocess_data(directory):\n",
        "    features = []\n",
        "    labels = []\n",
        "\n",
        "    for label in os.listdir(directory):\n",
        "        label_dir = os.path.join(directory, label)\n",
        "        for img_name in os.listdir(label_dir):\n",
        "            img_path = os.path.join(label_dir, img_name)\n",
        "            img = cv2.imread(img_path)\n",
        "            if img is not None:\n",
        "                img = standarized_input(img)\n",
        "                histogram = get_histogram(img)\n",
        "                features.append(histogram)\n",
        "                labels.append(label_encoder(label))\n",
        "    return np.array(features), np.array(labels)"
      ],
      "metadata": {
        "id": "NAN1Cqko-KrS"
      },
      "execution_count": 31,
      "outputs": []
    },
    {
      "cell_type": "code",
      "source": [
        "# Muat dan praproses data training\n",
        "X_train, y_train = preprocess_data(train_dir)\n",
        "\n",
        "# Muat dan praproses data testing\n",
        "X_test, y_test = preprocess_data(test_dir)"
      ],
      "metadata": {
        "id": "P0WDKg3c-McT"
      },
      "execution_count": 32,
      "outputs": []
    },
    {
      "cell_type": "code",
      "source": [
        "svm_model = SVC()\n",
        "svm_model.fit(X_train, y_train)\n",
        "\n",
        "testPredictResult = svm_model.predict(X_test)"
      ],
      "metadata": {
        "id": "D_7SiC9T-OCb"
      },
      "execution_count": 33,
      "outputs": []
    },
    {
      "cell_type": "code",
      "source": [
        "# Bagian 4: Memprediksi hasil pada data testing\n",
        "testPredictResult = svm_model.predict(X_test)\n",
        "\n",
        "# Bagian 5: Menghitung akurasi\n",
        "accuracy = accuracy_score(y_test, testPredictResult)\n",
        "print(f\"Akurasi: {accuracy:.4f}\")\n",
        "\n",
        "# Bagian 6: Menampilkan laporan klasifikasi\n",
        "print(\"\\nLaporan Klasifikasi:\")\n",
        "print(classification_report(y_test, testPredictResult, target_names=['night', 'day']))"
      ],
      "metadata": {
        "colab": {
          "base_uri": "https://localhost:8080/"
        },
        "id": "mqEFPMjQ-PhX",
        "outputId": "2f14ed91-84ae-4fd4-cf2f-862388fa412c"
      },
      "execution_count": 34,
      "outputs": [
        {
          "output_type": "stream",
          "name": "stdout",
          "text": [
            "Akurasi: 0.9875\n",
            "\n",
            "Laporan Klasifikasi:\n",
            "              precision    recall  f1-score   support\n",
            "\n",
            "       night       0.99      0.99      0.99        80\n",
            "         day       0.99      0.99      0.99        80\n",
            "\n",
            "    accuracy                           0.99       160\n",
            "   macro avg       0.99      0.99      0.99       160\n",
            "weighted avg       0.99      0.99      0.99       160\n",
            "\n"
          ]
        }
      ]
    }
  ]
}